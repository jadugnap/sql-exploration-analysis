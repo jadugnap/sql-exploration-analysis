{
 "metadata": {
  "language_info": {
   "codemirror_mode": {
    "name": "ipython",
    "version": 3
   },
   "file_extension": ".py",
   "mimetype": "text/x-python",
   "name": "python",
   "nbconvert_exporter": "python",
   "pygments_lexer": "ipython3",
   "version": "3.8.2-final"
  },
  "orig_nbformat": 2,
  "kernelspec": {
   "name": "python3",
   "display_name": "Python 3.8.2 64-bit",
   "metadata": {
    "interpreter": {
     "hash": "31f2aee4e71d21fbe5cf8b01ff0e069b9275f58929596ceb00d14d90e3e16cd6"
    }
   }
  }
 },
 "nbformat": 4,
 "nbformat_minor": 2,
 "cells": [
  {
   "source": [
    "# Report for ForestQuery into Global Deforestation, 1990 to 2016"
   ],
   "cell_type": "markdown",
   "metadata": {}
  },
  {
   "source": [
    "ForestQuery is on a mission to combat deforestation around the world and to raise awareness about this topic and its impact on the environment. The data analysis team at ForestQuery has obtained data from the World Bank that includes forest area and total land area by country and year from 1990 to 2016, as well as a table of countries and the regions to which they belong.\n",
    "\n",
    "The data analysis team has used SQL to bring these tables together and to query them in an effort to find areas of concern as well as areas that present an opportunity to learn from successes.\n"
   ],
   "cell_type": "markdown",
   "metadata": {}
  },
  {
   "cell_type": "code",
   "execution_count": null,
   "metadata": {},
   "outputs": [],
   "source": [
    "print(\"Executing postgresql setup...\")\n",
    "%reload_ext sql\n",
    "%sql postgresql://jadug.parusa:@localhost/deforestation\n",
    "%sql SELECT * FROM forest_area WHERE forest_area_sqkm>0 ORDER BY 3 DESC, 4 DESC LIMIT 3"
   ]
  },
  {
   "cell_type": "code",
   "execution_count": null,
   "metadata": {},
   "outputs": [],
   "source": [
    "%%sql\n",
    "\n",
    "-- #DROP VIEW IF EXISTS deforestation_tab;\n",
    "CREATE OR REPLACE VIEW deforestation_tab AS (\n",
    "    SELECT\n",
    "        f.country_code,\n",
    "        f.country_name,\n",
    "        f.year,\n",
    "        f.forest_area_sqkm,\n",
    "        (2.59 * l.total_area_sqmi) AS total_area_sqkm,\n",
    "        r.region,\n",
    "        r.income_group\n",
    "    FROM forest_area AS f\n",
    "    FULL OUTER JOIN\n",
    "        land_area AS l\n",
    "        ON\n",
    "            f.country_code = l.country_code\n",
    "        AND\n",
    "            f.year = l.year\n",
    "    FULL OUTER JOIN\n",
    "        regions AS r\n",
    "        ON\n",
    "            f.country_code = r.country_code\n",
    ");\n",
    "SELECT *, COUNT(*) over()\n",
    "FROM deforestation_tab\n",
    "WHERE forest_area_sqkm>0\n",
    "GROUP BY 1,2,3,4,5,6,7\n",
    "ORDER BY 3 DESC, 4 DESC\n",
    "LIMIT 3;"
   ]
  },
  {
   "cell_type": "code",
   "execution_count": null,
   "metadata": {},
   "outputs": [],
   "source": []
  },
  {
   "source": [
    "## 1. GLOBAL SITUATION"
   ],
   "cell_type": "markdown",
   "metadata": {}
  },
  {
   "source": [
    "#### Question 1.1: How was the World's 1990 total forest area compared to 2016?"
   ],
   "cell_type": "markdown",
   "metadata": {}
  },
  {
   "cell_type": "code",
   "execution_count": null,
   "metadata": {},
   "outputs": [],
   "source": [
    "%%sql\n",
    "-- # filter country (world), year (1990 or 2016), calculate (area, difference, and percentage)\n",
    "DROP VIEW IF EXISTS world_forest_loss;\n",
    "CREATE VIEW world_forest_loss AS (\n",
    "    WITH\n",
    "    world_1990_2016 AS (\n",
    "        SELECT\n",
    "            country_name,\n",
    "            year,\n",
    "            forest_area_sqkm\n",
    "        FROM\n",
    "            deforestation_tab\n",
    "        WHERE\n",
    "            country_name = 'World'\n",
    "            AND (\n",
    "                year = 1990\n",
    "                OR year = 2016\n",
    "            )\n",
    "    ),\n",
    "    forest_1990 AS (\n",
    "        SELECT\n",
    "            forest_area_sqkm AS base_1990_sqkm\n",
    "        FROM\n",
    "            world_1990_2016\n",
    "        WHERE\n",
    "            year = 1990\n",
    "    )\n",
    "\n",
    "    SELECT\n",
    "        t.country_name,\n",
    "        t.year,\n",
    "        t.forest_area_sqkm,\n",
    "        base_1990_sqkm,\n",
    "        (t.forest_area_sqkm - base_1990_sqkm) AS forest_change_sqkm,\n",
    "        100*ROUND((t.forest_area_sqkm - base_1990_sqkm) / base_1990_sqkm, 3) AS forest_change_percent\n",
    "    FROM\n",
    "        world_1990_2016 AS t,\n",
    "        forest_1990\n",
    "    ORDER BY 2\n",
    ");\n",
    "\n",
    "SELECT * FROM world_forest_loss"
   ]
  },
  {
   "source": [
    "#### Question 1.2: How comparable is this forest area loss against a single country size?"
   ],
   "cell_type": "markdown",
   "metadata": {}
  },
  {
   "cell_type": "code",
   "execution_count": null,
   "metadata": {},
   "outputs": [],
   "source": [
    "%%sql\n",
    "-- # filter year (2016), filter and order (by total_area_sqkm)\n",
    "WITH base_2016_loss AS (\n",
    "    SELECT\n",
    "        forest_change_sqkm AS world_loss_sqkm\n",
    "    FROM\n",
    "        world_forest_loss\n",
    "    WHERE\n",
    "        year = 2016\n",
    ")\n",
    "\n",
    "SELECT\n",
    "    country_name,\n",
    "    year,\n",
    "    region,\n",
    "    total_area_sqkm\n",
    "FROM\n",
    "    deforestation_tab AS d,\n",
    "    base_2016_loss\n",
    "WHERE\n",
    "    year = 2016\n",
    "    AND d.total_area_sqkm < -(world_loss_sqkm)\n",
    "ORDER BY 4 DESC\n",
    "LIMIT 3"
   ]
  },
  {
   "source": [
    "According to the World Bank, the total forest area of the world was `41,282,694.9 sqkm` in 1990. As of 2016, the most recent year for which data was available, that number had fallen to `39,958,245.9 sqkm`, a loss of `-1,324,449.0 sqkm`, or `-3.200%`.\n",
    "\n",
    "The forest area lost over this time period is slightly more than the entire land area of `Peru` listed for the year 2016 (which is `1,279,999.9891 sqkm`).\n"
   ],
   "cell_type": "markdown",
   "metadata": {}
  },
  {
   "source": [
    "## 2. REGIONAL OUTLOOK"
   ],
   "cell_type": "markdown",
   "metadata": {}
  },
  {
   "source": [
    "#### Question 2.1:\n",
    "#### How many percent of World's land area was designated as forest, in 2016 and 1990?\n",
    "#### Which region had the highest & the lowest forestation percentage respectively in 2016 and 1990?"
   ],
   "cell_type": "markdown",
   "metadata": {}
  },
  {
   "cell_type": "code",
   "execution_count": null,
   "metadata": {},
   "outputs": [],
   "source": [
    "%%sql\n",
    "-- # filter year (1990 or 2016), calculate (forest area, land area, and percentage),\n",
    "-- # select world's, highest region, lowest region\n",
    "-- # apply union\n",
    "DROP VIEW IF EXISTS region_forestation;\n",
    "CREATE VIEW region_forestation AS (\n",
    "    SELECT\n",
    "        region,\n",
    "        year,\n",
    "        ROUND(100 * SUM(forest_area_sqkm) / SUM(total_area_sqkm), 3) AS forestation_percent,\n",
    "        ROUND(SUM(forest_area_sqkm),3) AS region_forest_sqkm,\n",
    "        ROUND(SUM(total_area_sqkm),3) AS region_land_sqkm\n",
    "    FROM\n",
    "        deforestation_tab\n",
    "    WHERE\n",
    "        year = 2016\n",
    "        OR year = 1990\n",
    "        AND COALESCE(forest_area_sqkm,0) > 0 -- excluding countries having empty forest_area_sqkm\n",
    "        AND COALESCE(total_area_sqkm,0) > 0 -- excluding countries having empty total_area_sqkm\n",
    "    GROUP BY 1,2\n",
    "    ORDER BY 2, 3 DESC\n",
    ");\n",
    "WITH\n",
    "world_forestation AS (\n",
    "    SELECT * FROM region_forestation WHERE region = 'World' LIMIT 2\n",
    "),\n",
    "highest_2016 AS (\n",
    "    SELECT * FROM region_forestation WHERE year = 2016 ORDER BY 3 DESC LIMIT 1\n",
    "),\n",
    "lowest_2016 AS (\n",
    "    SELECT * FROM region_forestation WHERE year = 2016 ORDER BY 3 LIMIT 1\n",
    "),\n",
    "highest_1990 AS (\n",
    "    SELECT * FROM region_forestation WHERE year = 1990 ORDER BY 3 DESC LIMIT 1\n",
    "),\n",
    "lowest_1990 AS (\n",
    "    SELECT * FROM region_forestation WHERE year = 1990 ORDER BY 3 LIMIT 1\n",
    ")\n",
    "\n",
    "SELECT * FROM world_forestation\n",
    "UNION\n",
    "SELECT * FROM highest_2016\n",
    "UNION\n",
    "SELECT * FROM lowest_2016\n",
    "UNION\n",
    "SELECT * FROM highest_1990\n",
    "UNION\n",
    "SELECT * FROM lowest_1990\n",
    "\n",
    "ORDER BY 1 DESC,2"
   ]
  },
  {
   "source": [
    "In 2016, the percent of the total land area of the world designated as forest was `31.376%`. The region with the highest relative forestation was `Latin America & Caribbean`, with `46.162%`, and the region with the lowest relative forestation was `Middle East & North Africa`, with `2.068%` forestation.\n",
    "\n",
    "In 1990, the percent of the total land area of the world designated as forest was `32.422%`. The region with the highest relative forestation was `Latin America & Caribbean`, with `51.031%`, and the region with the lowest relative forestation was `Middle East & North Africa`, with `1.777%` forestation.\n"
   ],
   "cell_type": "markdown",
   "metadata": {}
  },
  {
   "source": [
    "#### Question 2.2:\n",
    "#### From 1990 to 2016, which regions had increasing forestation & which regions had decreasing forestation?\n",
    "#### How did those regional increase & decrease impact to the overall World' forestation?"
   ],
   "cell_type": "markdown",
   "metadata": {}
  },
  {
   "cell_type": "code",
   "execution_count": null,
   "metadata": {},
   "outputs": [],
   "source": [
    "%%sql\n",
    "-- # self join to combine percentage (1990 or 2016)\n",
    "WITH\n",
    "rf_selfjoin AS (\n",
    "    SELECT\n",
    "        rf_1990.region,\n",
    "        rf_1990.forestation_percent AS forestation_1990_percent,\n",
    "        rf_2016.forestation_percent AS forestation_2016_percent\n",
    "    FROM region_forestation AS rf_1990\n",
    "    INNER JOIN region_forestation AS rf_2016\n",
    "    ON\n",
    "        rf_1990.region = rf_2016.region\n",
    "        AND rf_1990.year = 1990\n",
    "        AND rf_2016.year = 2016\n",
    ")\n",
    "\n",
    "SELECT\n",
    "    region,\n",
    "    forestation_1990_percent,\n",
    "    forestation_2016_percent,\n",
    "    ROUND(100*(forestation_2016_percent - forestation_1990_percent)/forestation_1990_percent, 3) AS percent_change\n",
    "FROM\n",
    "    rf_selfjoin\n",
    "ORDER BY 4"
   ]
  },
  {
   "source": [
    "The only regions of the world that decreased in percent forest area from 1990 to 2016 were `Latin America & Caribbean` (dropped from `51.031%` to `46.162%`) and `Sub-Saharan Africa` (`32.190%` to `28.788%`).\n",
    "\n",
    "All other regions actually increased in forest area over this time period. However, the drop in forest area in the two aforementioned regions was so large, the percent forest area of the world decreased over this time period from `32.422%` to `31.376%`. \n"
   ],
   "cell_type": "markdown",
   "metadata": {}
  },
  {
   "source": [
    "## 3. COUNTRY-LEVEL DETAIL"
   ],
   "cell_type": "markdown",
   "metadata": {}
  },
  {
   "source": [
    "### A. SUCCESS STORIES"
   ],
   "cell_type": "markdown",
   "metadata": {}
  },
  {
   "source": [
    "#### Question 3.1:\n",
    "#### Which top 2 countries had the largest increase of forest area from 1990 to 2016?"
   ],
   "cell_type": "markdown",
   "metadata": {}
  },
  {
   "cell_type": "code",
   "execution_count": null,
   "metadata": {},
   "outputs": [],
   "source": [
    "%%sql\n",
    "-- # filter year (1990 or 2016), calculate (forest area, land area, and percentage),\n",
    "-- # self join to combine percentage (1990 or 2016)\n",
    "-- # select highest countries\n",
    "\n",
    "DROP VIEW IF EXISTS country_forest_area;\n",
    "CREATE VIEW country_forest_area AS (\n",
    "    SELECT\n",
    "        d_1990.country_name,\n",
    "        d_1990.region,\n",
    "        ROUND(SUM(d_1990.total_area_sqkm), 3) AS land_1990_sqkm,\n",
    "        ROUND(SUM(d_2016.total_area_sqkm), 3) AS land_2016_sqkm,\n",
    "        ROUND(SUM(d_1990.forest_area_sqkm), 3) AS forest_1990_sqkm,\n",
    "        ROUND(SUM(d_2016.forest_area_sqkm), 3) AS forest_2016_sqkm,\n",
    "        ROUND(100 * SUM(d_1990.forest_area_sqkm) / SUM(d_1990.total_area_sqkm), 3) AS forestation_1990_percent,\n",
    "        ROUND(100 * SUM(d_2016.forest_area_sqkm) / SUM(d_2016.total_area_sqkm), 3) AS forestation_2016_percent\n",
    "    FROM\n",
    "        deforestation_tab AS d_1990\n",
    "    INNER JOIN\n",
    "        deforestation_tab AS d_2016\n",
    "    ON\n",
    "        d_1990.country_name = d_2016.country_name\n",
    "        AND d_1990.year = 1990\n",
    "        AND d_2016.year = 2016\n",
    "    WHERE\n",
    "        COALESCE(d_1990.total_area_sqkm, 0) > 0 -- excluding countries having empty land_area_sqkm\n",
    "        AND COALESCE(d_2016.total_area_sqkm, 0) > 0 -- excluding countries having empty land_area_sqkm\n",
    "        AND COALESCE(d_1990.forest_area_sqkm, 0) > 0 -- excluding countries having empty forest_area_sqkm\n",
    "        AND COALESCE(d_2016.forest_area_sqkm, 0) > 0 -- excluding countries having empty forest_area_sqkm\n",
    "    GROUP BY 1,2\n",
    ");\n",
    "\n",
    "SELECT\n",
    "    country_name,\n",
    "    region,\n",
    "    land_2016_sqkm,\n",
    "    forest_1990_sqkm,\n",
    "    forest_2016_sqkm,\n",
    "    (forest_2016_sqkm - forest_1990_sqkm) AS forest_sqkm_change\n",
    "FROM\n",
    "    country_forest_area\n",
    "ORDER BY\n",
    "    forest_sqkm_change DESC\n",
    "LIMIT 5"
   ]
  },
  {
   "source": [
    "There is one particularly bright spot in the data at the country level, `China`. This country actually increased in forest area from 1990 to 2016 by `527,229.062 sqkm`. It would be interesting to study what has changed in this country over this time to drive this figure in the data higher.\n",
    "\n",
    "The country with the next largest increase in forest area from 1990 to 2016 was the `United States`, but it only saw an increase of `79,200.000 sqkm`, much lower than the figure for `China`.\n"
   ],
   "cell_type": "markdown",
   "metadata": {}
  },
  {
   "source": [
    "#### Question 3.2:\n",
    "#### Which top 2 countries had the largest land area in 2016?"
   ],
   "cell_type": "markdown",
   "metadata": {}
  },
  {
   "cell_type": "code",
   "execution_count": null,
   "metadata": {},
   "outputs": [],
   "source": [
    "%%sql\n",
    "\n",
    "SELECT\n",
    "    country_name,\n",
    "    region,\n",
    "    land_2016_sqkm,\n",
    "    (forest_2016_sqkm - forest_1990_sqkm) AS forest_sqkm_change,\n",
    "    forestation_1990_percent,\n",
    "    forestation_2016_percent,\n",
    "    ROUND(100*(forestation_2016_percent - forestation_1990_percent)/forestation_1990_percent, 3) AS percent_change\n",
    "FROM\n",
    "    country_forest_area\n",
    "WHERE\n",
    "    country_name != 'World'\n",
    "ORDER BY\n",
    "    land_2016_sqkm DESC\n",
    "LIMIT 5"
   ]
  },
  {
   "source": [
    "#### Question 3.3:\n",
    "#### Which top 5 countries had the largest increase of forestation percentage from 1990 to 2016?"
   ],
   "cell_type": "markdown",
   "metadata": {}
  },
  {
   "cell_type": "code",
   "execution_count": null,
   "metadata": {},
   "outputs": [],
   "source": [
    "%%sql\n",
    "\n",
    "SELECT\n",
    "    country_name,\n",
    "    region,\n",
    "    land_2016_sqkm,\n",
    "    (forest_2016_sqkm - forest_1990_sqkm) AS forest_sqkm_change,\n",
    "    forestation_1990_percent,\n",
    "    forestation_2016_percent,\n",
    "    ROUND(100*(forestation_2016_percent - forestation_1990_percent)/forestation_1990_percent, 3) AS percent_change\n",
    "FROM\n",
    "    country_forest_area\n",
    "ORDER BY\n",
    "    percent_change DESC\n",
    "LIMIT 5"
   ]
  },
  {
   "source": [
    "`Russian Federation` (`16,376,870.000 sqkm`) and `China` (`9,388,210.011 sqkm`) are of course very large countries in total land area, so when we look at the largest percent change in forest area from 1990 to 2016, we aren’t surprised to find a much smaller country listed at the top.\n",
    "\n",
    "`Iceland` (`100,249.990 sqkm`) increased in forest area by `213.043%` from 1990 to 2016. \n"
   ],
   "cell_type": "markdown",
   "metadata": {}
  },
  {
   "source": [
    "### B. LARGEST CONCERNS\n",
    "\n",
    "#### Question 3.4: Which countries are seeing deforestation to the largest degree from 1990 to 2016? (by sqkm decrease in forest area)\n",
    "\n",
    "The following 3 countries had the largest decrease in forest area over the time period under consideration:"
   ],
   "cell_type": "markdown",
   "metadata": {}
  },
  {
   "cell_type": "code",
   "execution_count": null,
   "metadata": {},
   "outputs": [],
   "source": [
    "%%sql\n",
    "\n",
    "SELECT\n",
    "    country_name,\n",
    "    region,\n",
    "    land_2016_sqkm,\n",
    "    forest_1990_sqkm,\n",
    "    forest_2016_sqkm,\n",
    "    (forest_2016_sqkm - forest_1990_sqkm) AS forest_sqkm_change\n",
    "FROM\n",
    "    country_forest_area\n",
    "WHERE\n",
    "    country_name != 'World'\n",
    "ORDER BY\n",
    "    forest_sqkm_change\n",
    "LIMIT 5"
   ]
  },
  {
   "source": [
    "#### Question 3.5: Which countries are seeing deforestation to the largest degree from 1990 to 2016? (by percent decrease)"
   ],
   "cell_type": "markdown",
   "metadata": {}
  },
  {
   "cell_type": "code",
   "execution_count": null,
   "metadata": {},
   "outputs": [],
   "source": [
    "%%sql\n",
    "\n",
    "SELECT\n",
    "    country_name,\n",
    "    region,\n",
    "    land_2016_sqkm,\n",
    "    (forest_2016_sqkm - forest_1990_sqkm) AS forest_sqkm_change,\n",
    "    forestation_1990_percent,\n",
    "    forestation_2016_percent,\n",
    "    ROUND(100*(forestation_2016_percent - forestation_1990_percent)/forestation_1990_percent, 3) AS percent_change\n",
    "FROM\n",
    "    country_forest_area\n",
    "ORDER BY\n",
    "    percent_change\n",
    "LIMIT 5"
   ]
  },
  {
   "source": [
    "When we consider countries that decreased in forest area percentage the most between 1990 and 2016, we find that four of the top 5 countries on the list are in the region of `Sub-Saharan Africa`. The countries are `Togo`, `Nigeria`, `Uganda`, and `Mauritania`. The 5th country on the list is `Honduras`, which is in the `Latin America & Caribbean` region. \n",
    "\n",
    "From the above analysis, we see that `Nigeria` is the only country that ranks in the top 5 both in terms of absolute square kilometer decrease in forest as well as percent decrease in forest area from 1990 to 2016. Therefore, this country has a significant opportunity ahead to stop the decline and hopefully spearhead remedial efforts.\n"
   ],
   "cell_type": "markdown",
   "metadata": {}
  },
  {
   "source": [
    "### C. QUARTILES"
   ],
   "cell_type": "markdown",
   "metadata": {}
  },
  {
   "cell_type": "code",
   "execution_count": null,
   "metadata": {},
   "outputs": [],
   "source": [
    "%%sql\n",
    "\n",
    "DROP VIEW IF EXISTS country_quartile;\n",
    "CREATE VIEW country_quartile AS (\n",
    "    WITH country_2016_forestation_percent AS (\n",
    "        SELECT\n",
    "            country_name,\n",
    "            region,\n",
    "            forest_area_sqkm,\n",
    "            total_area_sqkm,\n",
    "            ROUND(100 * forest_area_sqkm / total_area_sqkm, 3) AS forestation_percent\n",
    "        FROM\n",
    "            deforestation_tab\n",
    "        WHERE\n",
    "            year = 2016\n",
    "            AND COALESCE(total_area_sqkm, 0) > 0 -- excluding countries having empty land_area_sqkm\n",
    "            AND COALESCE(forest_area_sqkm, 0) > 0 -- excluding countries having empty forest_area_sqkm\n",
    "        GROUP BY 1,2,3,4\n",
    "        ORDER BY 5 DESC\n",
    "    )\n",
    "\n",
    "    SELECT\n",
    "        country_name,\n",
    "        region,\n",
    "        forestation_percent,\n",
    "        CASE\n",
    "            WHEN forestation_percent BETWEEN 0 AND 25 THEN '1st Quartile (0-25%)'\n",
    "            WHEN forestation_percent BETWEEN 25 AND 50 THEN '2nd Quartile (25-50%)'\n",
    "            WHEN forestation_percent BETWEEN 50 AND 75 THEN '3rd Quartile (50-75%)'\n",
    "            WHEN forestation_percent BETWEEN 75 AND 100 THEN '4th Quartile (75-100%)'\n",
    "        END AS quartile\n",
    "    FROM\n",
    "        country_2016_forestation_percent\n",
    "    ORDER BY 1\n",
    ");\n",
    "\n",
    "\n",
    "SELECT\n",
    "    quartile,\n",
    "    count(country_name)\n",
    "FROM \n",
    "    country_quartile\n",
    "WHERE\n",
    "    country_name != 'World'\n",
    "GROUP BY 1\n",
    "ORDER BY 1"
   ]
  },
  {
   "source": [
    "The largest number of countries in 2016 were found in the `1st quartile`.\n",
    "\n",
    "There were `9` countries in the top quartile in 2016. These are countries with a very high percentage of their land area designated as forest. The following is a list of countries and their respective forest land, denoted as a percentage.\n"
   ],
   "cell_type": "markdown",
   "metadata": {}
  },
  {
   "cell_type": "code",
   "execution_count": null,
   "metadata": {},
   "outputs": [],
   "source": [
    "%%sql\n",
    "\n",
    "SELECT\n",
    "    country_name,\n",
    "    region,\n",
    "    forestation_percent\n",
    "FROM \n",
    "    country_quartile\n",
    "WHERE\n",
    "    quartile = '4th Quartile (75-100%)'\n",
    "ORDER BY 3 DESC"
   ]
  },
  {
   "source": [
    "## 4. RECOMMENDATIONS"
   ],
   "cell_type": "markdown",
   "metadata": {}
  },
  {
   "source": [
    "### Group 1. Countries with SUCCESS STORIES: Find out insights and learn from them!\n",
    "\n",
    "These countries are the role model! It would bring huge environmental benefits to study what has changed in this country over this time to drive higher forestation, and proliferate into other country groups below."
   ],
   "cell_type": "markdown",
   "metadata": {}
  },
  {
   "source": [
    "### Group 2. Countries with LARGEST CONCERNS: Prioritize improvement!\n",
    "\n",
    "These countries need help and attention. It would be necessary to find out what has caused the issues and how to cure the situation. Learn from Group 1!"
   ],
   "cell_type": "markdown",
   "metadata": {}
  },
  {
   "source": [
    "### Group 3. Countries in top forestation quartile: Preserve carefully.\n",
    "\n",
    "These countries must be protected with high carefulness. It is necessary to prevent them from falling into Group 2."
   ],
   "cell_type": "markdown",
   "metadata": {}
  },
  {
   "source": [
    "### Group 4: Countries in bottom forestation quartile: Maintain and seek opportunity.\n",
    "\n",
    "There is nothing much to be done if these countries are located where climate does not really support, except maintaining normal level of forestation. However if the climate supports, learn from Group 1."
   ],
   "cell_type": "markdown",
   "metadata": {}
  }
 ]
}